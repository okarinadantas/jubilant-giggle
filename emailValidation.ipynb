{
  "nbformat": 4,
  "nbformat_minor": 0,
  "metadata": {
    "colab": {
      "name": "emailValidation.ipynb",
      "provenance": [],
      "authorship_tag": "ABX9TyNEUBh3O0uIe3qRwfj90I9c",
      "include_colab_link": true
    },
    "kernelspec": {
      "name": "python3",
      "display_name": "Python 3"
    },
    "language_info": {
      "name": "python"
    }
  },
  "cells": [
    {
      "cell_type": "markdown",
      "metadata": {
        "id": "view-in-github",
        "colab_type": "text"
      },
      "source": [
        "<a href=\"https://colab.research.google.com/github/okarinadantas/jubilant-giggle/blob/main/emailValidation.ipynb\" target=\"_parent\"><img src=\"https://colab.research.google.com/assets/colab-badge.svg\" alt=\"Open In Colab\"/></a>"
      ]
    },
    {
      "cell_type": "code",
      "metadata": {
        "colab": {
          "base_uri": "https://localhost:8080/"
        },
        "id": "JW1ItX_O_PqW",
        "outputId": "20aa2e38-37bd-46af-a352-b009923429e9"
      },
      "source": [
        "email = input('Please type your e-mail : ')\n",
        "\n",
        "if not '@' in email:\n",
        "  print ('Invalid e-mail format {}'.format(email))\n",
        "else:\n",
        "  pass"
      ],
      "execution_count": 5,
      "outputs": [
        {
          "name": "stdout",
          "output_type": "stream",
          "text": [
            "Please type your e-mail : email@gmail.com\n"
          ]
        }
      ]
    }
  ]
}
